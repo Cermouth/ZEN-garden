{
 "cells": [
  {
   "cell_type": "code",
   "execution_count": 5,
   "id": "f7d58b16",
   "metadata": {},
   "outputs": [],
   "source": [
    "import pandas as pd\n",
    "import numpy as np\n",
    "import os\n"
   ]
  },
  {
   "cell_type": "code",
   "execution_count": 24,
   "id": "b01e15b1",
   "metadata": {},
   "outputs": [
    {
     "name": "stdout",
     "output_type": "stream",
     "text": [
      "/Users/jburger/Documents/Promotion/21_Network_model/Energy-Carbon-Optimization-Platform/preprocess\n"
     ]
    }
   ],
   "source": [
    "\n",
    "def calc_distance(start, end, node_df):\n",
    "    d_x = node_df[node_df['node'] == start]['x'].values[0] - node_df[node_df['node'] == end]['x'].values[0]\n",
    "    d_y = node_df[node_df['node'] == start]['y'].values[0] - node_df[node_df['node'] == end]['y'].values[0]\n",
    "    return np.sqrt(d_x ** 2 + d_y ** 2)\n",
    "print(os.getcwd())"
   ]
  },
  {
   "cell_type": "code",
   "execution_count": 45,
   "id": "b6cc50be",
   "metadata": {},
   "outputs": [],
   "source": [
    "# truck_dist = get_connection_df(truck_connections, node_df=nodes_df)\n",
    "def get_connection_df(connection_list, node_df):\n",
    "    ls = []\n",
    "    for con in connection_list:\n",
    "        start = con[0]\n",
    "        end = con[1]\n",
    "        dist = calc_distance(start, end, node_df)\n",
    "        ls.append([f'{start}-{end}', dist])\n",
    "    dist_df = pd.DataFrame(ls, columns = ['edge', 'distance'])\n",
    "    return dist_df"
   ]
  },
  {
   "cell_type": "code",
   "execution_count": 40,
   "id": "6b0d107a",
   "metadata": {
    "scrolled": true
   },
   "outputs": [
    {
     "data": {
      "text/html": [
       "<div>\n",
       "<style scoped>\n",
       "    .dataframe tbody tr th:only-of-type {\n",
       "        vertical-align: middle;\n",
       "    }\n",
       "\n",
       "    .dataframe tbody tr th {\n",
       "        vertical-align: top;\n",
       "    }\n",
       "\n",
       "    .dataframe thead th {\n",
       "        text-align: right;\n",
       "    }\n",
       "</style>\n",
       "<table border=\"1\" class=\"dataframe\">\n",
       "  <thead>\n",
       "    <tr style=\"text-align: right;\">\n",
       "      <th></th>\n",
       "      <th>node</th>\n",
       "      <th>x</th>\n",
       "      <th>y</th>\n",
       "    </tr>\n",
       "  </thead>\n",
       "  <tbody>\n",
       "    <tr>\n",
       "      <th>0</th>\n",
       "      <td>ARA_B_CH</td>\n",
       "      <td>380.435471</td>\n",
       "      <td>5203.268033</td>\n",
       "    </tr>\n",
       "    <tr>\n",
       "      <th>1</th>\n",
       "      <td>ARA_WH_CH</td>\n",
       "      <td>460.846459</td>\n",
       "      <td>5249.761798</td>\n",
       "    </tr>\n",
       "    <tr>\n",
       "      <th>2</th>\n",
       "      <td>BGO_NO</td>\n",
       "      <td>296.764044</td>\n",
       "      <td>6700.500420</td>\n",
       "    </tr>\n",
       "    <tr>\n",
       "      <th>3</th>\n",
       "      <td>Basel_CH</td>\n",
       "      <td>394.156760</td>\n",
       "      <td>5271.468456</td>\n",
       "    </tr>\n",
       "    <tr>\n",
       "      <th>4</th>\n",
       "      <td>Carbfix_IS</td>\n",
       "      <td>-994.989361</td>\n",
       "      <td>7486.339852</td>\n",
       "    </tr>\n",
       "    <tr>\n",
       "      <th>5</th>\n",
       "      <td>HC_Gorazdze_PL</td>\n",
       "      <td>1135.595689</td>\n",
       "      <td>5636.514395</td>\n",
       "    </tr>\n",
       "    <tr>\n",
       "      <th>6</th>\n",
       "      <td>HC_Hannover_DE</td>\n",
       "      <td>559.357155</td>\n",
       "      <td>5803.026642</td>\n",
       "    </tr>\n",
       "    <tr>\n",
       "      <th>7</th>\n",
       "      <td>JC_Wildegg_CH</td>\n",
       "      <td>436.722677</td>\n",
       "      <td>5251.600473</td>\n",
       "    </tr>\n",
       "    <tr>\n",
       "      <th>8</th>\n",
       "      <td>KVA_Hagenholz_CH</td>\n",
       "      <td>467.182552</td>\n",
       "      <td>5251.288794</td>\n",
       "    </tr>\n",
       "    <tr>\n",
       "      <th>9</th>\n",
       "      <td>KVA_Linth_CH</td>\n",
       "      <td>503.056741</td>\n",
       "      <td>5220.280929</td>\n",
       "    </tr>\n",
       "    <tr>\n",
       "      <th>10</th>\n",
       "      <td>RTM_NL</td>\n",
       "      <td>184.890455</td>\n",
       "      <td>5757.360117</td>\n",
       "    </tr>\n",
       "    <tr>\n",
       "      <th>11</th>\n",
       "      <td>Reyk_IS</td>\n",
       "      <td>-957.577953</td>\n",
       "      <td>7481.098474</td>\n",
       "    </tr>\n",
       "    <tr>\n",
       "      <th>12</th>\n",
       "      <td>Rong_NO</td>\n",
       "      <td>274.420673</td>\n",
       "      <td>6720.247567</td>\n",
       "    </tr>\n",
       "    <tr>\n",
       "      <th>13</th>\n",
       "      <td>SE_Skutskaer_SE</td>\n",
       "      <td>957.974550</td>\n",
       "      <td>6752.402354</td>\n",
       "    </tr>\n",
       "  </tbody>\n",
       "</table>\n",
       "</div>"
      ],
      "text/plain": [
       "                node            x            y\n",
       "0           ARA_B_CH   380.435471  5203.268033\n",
       "1          ARA_WH_CH   460.846459  5249.761798\n",
       "2             BGO_NO   296.764044  6700.500420\n",
       "3           Basel_CH   394.156760  5271.468456\n",
       "4         Carbfix_IS  -994.989361  7486.339852\n",
       "5     HC_Gorazdze_PL  1135.595689  5636.514395\n",
       "6     HC_Hannover_DE   559.357155  5803.026642\n",
       "7      JC_Wildegg_CH   436.722677  5251.600473\n",
       "8   KVA_Hagenholz_CH   467.182552  5251.288794\n",
       "9       KVA_Linth_CH   503.056741  5220.280929\n",
       "10            RTM_NL   184.890455  5757.360117\n",
       "11           Reyk_IS  -957.577953  7481.098474\n",
       "12           Rong_NO   274.420673  6720.247567\n",
       "13   SE_Skutskaer_SE   957.974550  6752.402354"
      ]
     },
     "execution_count": 40,
     "metadata": {},
     "output_type": "execute_result"
    }
   ],
   "source": [
    "node_df = pd.read_csv('../data/Node_data/set_pioneering_Nodes.csv')\n",
    "# print(node_df[node_df['node'] == 'ARA_WH_CH']['x'].values[0])\n",
    "node_df"
   ]
  },
  {
   "cell_type": "code",
   "execution_count": 43,
   "id": "0c8d3cb3",
   "metadata": {},
   "outputs": [],
   "source": [
    "truck_connections = [\n",
    "    ['ARA_B_CH', 'Basel_CH'],\n",
    "    ['ARA_WH_CH', 'Basel_CH'],\n",
    "    ['BGO_NO', 'Rong_NO'],\n",
    "    ['Reyk_IS', 'Carbfix_IS'],\n",
    "    ['JC_Wildegg_CH', 'Basel_CH'],\n",
    "]\n",
    "\n",
    "train_connections = [\n",
    "    ['Basel_CH', 'RTM_NL'],\n",
    "    ['JC_Wildegg_CH', 'Basel_CH'],\n",
    "]\n",
    "\n",
    "ship_connections = [\n",
    "    ['RTM_NL', 'BGO_NO'],\n",
    "    ['RTM_NL', 'Reyk_IS'],\n",
    "]"
   ]
  },
  {
   "cell_type": "code",
   "execution_count": 47,
   "id": "612f76f1",
   "metadata": {},
   "outputs": [
    {
     "data": {
      "text/html": [
       "<div>\n",
       "<style scoped>\n",
       "    .dataframe tbody tr th:only-of-type {\n",
       "        vertical-align: middle;\n",
       "    }\n",
       "\n",
       "    .dataframe tbody tr th {\n",
       "        vertical-align: top;\n",
       "    }\n",
       "\n",
       "    .dataframe thead th {\n",
       "        text-align: right;\n",
       "    }\n",
       "</style>\n",
       "<table border=\"1\" class=\"dataframe\">\n",
       "  <thead>\n",
       "    <tr style=\"text-align: right;\">\n",
       "      <th></th>\n",
       "      <th>edge</th>\n",
       "      <th>distance</th>\n",
       "    </tr>\n",
       "  </thead>\n",
       "  <tbody>\n",
       "    <tr>\n",
       "      <th>0</th>\n",
       "      <td>Basel_CH-RTM_NL</td>\n",
       "      <td>529.039784</td>\n",
       "    </tr>\n",
       "    <tr>\n",
       "      <th>1</th>\n",
       "      <td>JC_Wildegg_CH-Basel_CH</td>\n",
       "      <td>46.974398</td>\n",
       "    </tr>\n",
       "  </tbody>\n",
       "</table>\n",
       "</div>"
      ],
      "text/plain": [
       "                     edge    distance\n",
       "0         Basel_CH-RTM_NL  529.039784\n",
       "1  JC_Wildegg_CH-Basel_CH   46.974398"
      ]
     },
     "execution_count": 47,
     "metadata": {},
     "output_type": "execute_result"
    }
   ],
   "source": [
    "df_truck = get_connection_df(truck_connections, node_df)\n",
    "df_train = get_connection_df(train_connections, node_df)\n",
    "df_ship = get_connection_df(ship_connections, node_df)\n",
    "df_train"
   ]
  },
  {
   "cell_type": "code",
   "execution_count": 49,
   "id": "dd710b77",
   "metadata": {},
   "outputs": [],
   "source": [
    "df_truck.to_csv('../data/Pioneering_CCTS/setTransportTechnologies/carbon_truck/distances_truck.csv', index=False)\n",
    "df_train.to_csv('../data/Pioneering_CCTS/setTransportTechnologies/carbon_train/distances_train.csv', index=False)\n",
    "df_ship.to_csv('../data/Pioneering_CCTS/setTransportTechnologies/carbon_ship/distances_ship.csv', index=False)"
   ]
  }
 ],
 "metadata": {
  "kernelspec": {
   "display_name": "Python 3 (ipykernel)",
   "language": "python",
   "name": "python3"
  },
  "language_info": {
   "codemirror_mode": {
    "name": "ipython",
    "version": 3
   },
   "file_extension": ".py",
   "mimetype": "text/x-python",
   "name": "python",
   "nbconvert_exporter": "python",
   "pygments_lexer": "ipython3",
   "version": "3.9.12"
  }
 },
 "nbformat": 4,
 "nbformat_minor": 5
}
