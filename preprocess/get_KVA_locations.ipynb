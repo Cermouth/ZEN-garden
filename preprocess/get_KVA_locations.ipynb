{
 "cells": [
  {
   "cell_type": "code",
   "execution_count": 1,
   "metadata": {
    "collapsed": true
   },
   "outputs": [
    {
     "name": "stdout",
     "output_type": "stream",
     "text": [
      "/Users/jburger/Documents/Promotion/21_Network_model/Energy-Carbon-Optimization-Platform/preprocess\n"
     ]
    }
   ],
   "source": [
    "import pandas as pd\n",
    "import geopandas as gpd\n",
    "from preprocess.functions.lat_lon_to_utm import convertLV95, convertLatLon\n",
    "import matplotlib.pyplot as plt\n",
    "import os\n",
    "print(os.getcwd())"
   ]
  },
  {
   "cell_type": "code",
   "execution_count": 2,
   "outputs": [],
   "source": [
    "kva_locs = pd.read_csv('../../../20_Models_and_data/KVA_data/WasteIncinerationPlant.csv', delimiter=';')"
   ],
   "metadata": {
    "collapsed": false,
    "pycharm": {
     "name": "#%%\n"
    }
   }
  },
  {
   "cell_type": "code",
   "execution_count": 3,
   "outputs": [],
   "source": [
    "coords_list = []\n",
    "\n",
    "for i in range(kva_locs.shape[0]):\n",
    "    x_wgs84, y_wgs84 = convertLV95(kva_locs.loc[i, 'x_lv95'], kva_locs.loc[i, 'y_lv95'])\n",
    "    utm_df = convertLatLon(pd.DataFrame([[x_wgs84, y_wgs84]], columns=['lon', 'lat']))\n",
    "    coords_list.append([kva_locs.loc[i, 'Abbreviation'], x_wgs84, y_wgs84, utm_df.loc[0, 'x[m]'], utm_df.loc[0, 'y[m]']])\n",
    "\n",
    "coords_df = pd.DataFrame(coords_list, columns=['Abbreviation', 'x_wgs84', 'y_wgs84', 'x_utm', 'y_utm'])"
   ],
   "metadata": {
    "collapsed": false,
    "pycharm": {
     "name": "#%%\n"
    }
   }
  },
  {
   "cell_type": "code",
   "execution_count": 8,
   "outputs": [],
   "source": [
    "kva_locs = kva_locs.merge(right=coords_df, how='inner')"
   ],
   "metadata": {
    "collapsed": false,
    "pycharm": {
     "name": "#%%\n"
    }
   }
  },
  {
   "cell_type": "code",
   "execution_count": 9,
   "outputs": [],
   "source": [
    "kva_nodes = kva_locs[['Abbreviation', 'x_utm', 'y_utm']].copy(deep=True)\n",
    "kva_nodes.columns = ['node', 'x', 'y']\n",
    "kva_nodes.at[:, ['x', 'y']] = kva_nodes.loc[:, ['x', 'y']]*0.001"
   ],
   "metadata": {
    "collapsed": false,
    "pycharm": {
     "name": "#%%\n"
    }
   }
  },
  {
   "cell_type": "code",
   "execution_count": 14,
   "outputs": [],
   "source": [
    "kva_nodes.to_csv('../data/NUTS0_CCTS/setNodes/setKVANodes.csv', index=False)"
   ],
   "metadata": {
    "collapsed": false,
    "pycharm": {
     "name": "#%%\n"
    }
   }
  },
  {
   "cell_type": "code",
   "execution_count": 8,
   "outputs": [
    {
     "data": {
      "text/plain": "<Figure size 432x288 with 1 Axes>",
      "image/png": "[encoded data removed]"
     },
     "metadata": {
      "needs_background": "light"
     },
     "output_type": "display_data"
    }
   ],
   "source": [
    "# from here on, just comparison of Swiss geographical center to KVAs\n",
    "ch_utm = [440107, 5200439]\n",
    "\n",
    "plt.scatter(kva_locs['x_utm'], kva_locs['y_utm'], color='blue')\n",
    "plt.scatter(ch_utm[0], ch_utm[1], color='red')\n",
    "plt.show()\n"
   ],
   "metadata": {
    "collapsed": false,
    "pycharm": {
     "name": "#%%\n"
    }
   }
  },
  {
   "cell_type": "code",
   "execution_count": 16,
   "outputs": [
    {
     "name": "stdout",
     "output_type": "stream",
     "text": [
      "0    5200439\n",
      "Name: lat, dtype: int64 0    440107\n",
      "Name: lon, dtype: int64\n"
     ]
    }
   ],
   "source": [
    "ch_df = pd.DataFrame(ch_utm, index=['lon', 'lat']).T\n",
    "print(ch_df.lat, ch_df.lon)"
   ],
   "metadata": {
    "collapsed": false,
    "pycharm": {
     "name": "#%%\n"
    }
   }
  },
  {
   "cell_type": "code",
   "execution_count": 18,
   "outputs": [],
   "source": [
    "gdf = gpd.GeoDataFrame(ch_df, crs='EPSG:32632', geometry=gpd.points_from_xy(ch_df.lon, ch_df.lat))"
   ],
   "metadata": {
    "collapsed": false,
    "pycharm": {
     "name": "#%%\n"
    }
   }
  },
  {
   "cell_type": "code",
   "execution_count": 20,
   "outputs": [],
   "source": [
    "gdf = gdf.to_crs(crs='EPSG:4326')\n",
    "gdf['x[m]'] = gdf['geometry'].x\n",
    "gdf['y[m]'] = gdf['geometry'].y\n",
    "ch_df_wgs = pd.DataFrame(gdf.drop(columns='geometry'))\n"
   ],
   "metadata": {
    "collapsed": false,
    "pycharm": {
     "name": "#%%\n"
    }
   }
  }
 ],
 "metadata": {
  "kernelspec": {
   "name": "pycharm-37824343",
   "language": "python",
   "display_name": "PyCharm (Energy-Carbon-Optimization-Platform)"
  },
  "language_info": {
   "codemirror_mode": {
    "name": "ipython",
    "version": 2
   },
   "file_extension": ".py",
   "mimetype": "text/x-python",
   "name": "python",
   "nbconvert_exporter": "python",
   "pygments_lexer": "ipython2",
   "version": "2.7.6"
  }
 },
 "nbformat": 4,
 "nbformat_minor": 0
}